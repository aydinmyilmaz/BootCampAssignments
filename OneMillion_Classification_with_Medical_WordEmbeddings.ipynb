{
  "nbformat": 4,
  "nbformat_minor": 0,
  "metadata": {
    "colab": {
      "name": "OneMillion_Classification_with_Medical_WordEmbeddings.ipynb",
      "provenance": [],
      "authorship_tag": "ABX9TyNMbX6vPCNhWvNuxSNvYd2E",
      "include_colab_link": true
    },
    "kernelspec": {
      "name": "python3",
      "display_name": "Python 3"
    }
  },
  "cells": [
    {
      "cell_type": "markdown",
      "metadata": {
        "id": "view-in-github",
        "colab_type": "text"
      },
      "source": [
        "<a href=\"https://colab.research.google.com/github/aydinmyilmaz/BootCampAssignments/blob/master/OneMillion_Classification_with_Medical_WordEmbeddings.ipynb\" target=\"_parent\"><img src=\"https://colab.research.google.com/assets/colab-badge.svg\" alt=\"Open In Colab\"/></a>"
      ]
    },
    {
      "cell_type": "code",
      "metadata": {
        "id": "M76DMtvvkjaq",
        "colab_type": "code",
        "colab": {
          "base_uri": "https://localhost:8080/",
          "height": 136
        },
        "outputId": "f7fb3ec1-9588-476b-f01e-b7c23bc26515"
      },
      "source": [
        "import os\n",
        "\n",
        "# Install java\n",
        "! apt-get update -qq\n",
        "! apt-get install -y openjdk-8-jdk-headless -qq > /dev/null\n",
        "\n",
        "os.environ[\"JAVA_HOME\"] = \"/usr/lib/jvm/java-8-openjdk-amd64\"\n",
        "os.environ[\"PATH\"] = os.environ[\"JAVA_HOME\"] + \"/bin:\" + os.environ[\"PATH\"]\n",
        "! java -version\n",
        "\n",
        "# Install pyspark\n",
        "! pip install --ignore-installed -q pyspark==2.4.4\n",
        "! pip install --ignore-installed -q spark-nlp==2.5.4"
      ],
      "execution_count": 1,
      "outputs": [
        {
          "output_type": "stream",
          "text": [
            "openjdk version \"1.8.0_265\"\n",
            "OpenJDK Runtime Environment (build 1.8.0_265-8u265-b01-0ubuntu2~18.04-b01)\n",
            "OpenJDK 64-Bit Server VM (build 25.265-b01, mixed mode)\n",
            "\u001b[K     |████████████████████████████████| 215.7MB 62kB/s \n",
            "\u001b[K     |████████████████████████████████| 204kB 37.6MB/s \n",
            "\u001b[?25h  Building wheel for pyspark (setup.py) ... \u001b[?25l\u001b[?25hdone\n",
            "\u001b[K     |████████████████████████████████| 133kB 2.8MB/s \n",
            "\u001b[?25h"
          ],
          "name": "stdout"
        }
      ]
    },
    {
      "cell_type": "code",
      "metadata": {
        "id": "eZMmXsvolfYW",
        "colab_type": "code",
        "colab": {
          "base_uri": "https://localhost:8080/",
          "height": 51
        },
        "outputId": "0f633955-ad4e-45bf-9367-c78a977a24b6"
      },
      "source": [
        "import sparknlp\n",
        "\n",
        "spark = sparknlp.start()\n",
        "\n",
        "print(\"Spark NLP version\", sparknlp.version())\n",
        "\n",
        "print(\"Apache Spark version:\", spark.version)"
      ],
      "execution_count": 2,
      "outputs": [
        {
          "output_type": "stream",
          "text": [
            "Spark NLP version 2.5.4\n",
            "Apache Spark version: 2.4.4\n"
          ],
          "name": "stdout"
        }
      ]
    },
    {
      "cell_type": "code",
      "metadata": {
        "id": "YBnVKPyom7q0",
        "colab_type": "code",
        "colab": {
          "base_uri": "https://localhost:8080/",
          "height": 204
        },
        "outputId": "a5206afd-9765-40dd-fb80-78869f649b99"
      },
      "source": [
        "! wget https://dl.fbaipublicfiles.com/fasttext/vectors-crawl/cc.de.300.vec.gz"
      ],
      "execution_count": 3,
      "outputs": [
        {
          "output_type": "stream",
          "text": [
            "--2020-09-10 20:01:26--  https://dl.fbaipublicfiles.com/fasttext/vectors-crawl/cc.de.300.vec.gz\n",
            "Resolving dl.fbaipublicfiles.com (dl.fbaipublicfiles.com)... 172.67.9.4, 104.22.74.142, 104.22.75.142, ...\n",
            "Connecting to dl.fbaipublicfiles.com (dl.fbaipublicfiles.com)|172.67.9.4|:443... connected.\n",
            "HTTP request sent, awaiting response... 200 OK\n",
            "Length: 1278030050 (1.2G) [binary/octet-stream]\n",
            "Saving to: ‘cc.de.300.vec.gz’\n",
            "\n",
            "cc.de.300.vec.gz    100%[===================>]   1.19G  17.9MB/s    in 70s     \n",
            "\n",
            "2020-09-10 20:02:37 (17.4 MB/s) - ‘cc.de.300.vec.gz’ saved [1278030050/1278030050]\n",
            "\n"
          ],
          "name": "stdout"
        }
      ]
    },
    {
      "cell_type": "code",
      "metadata": {
        "id": "HTrsAapTm_7C",
        "colab_type": "code",
        "colab": {}
      },
      "source": [
        "!gunzip cc.de.300.vec.gz"
      ],
      "execution_count": 4,
      "outputs": []
    },
    {
      "cell_type": "code",
      "metadata": {
        "id": "wjqxqu7kltAO",
        "colab_type": "code",
        "colab": {
          "base_uri": "https://localhost:8080/",
          "height": 207
        },
        "outputId": "4c1ba488-aa60-4619-b358-dc1d558f5f4a"
      },
      "source": [
        "\n",
        "df1 = spark.read.format(\"csv\").option(\"header\", \"true\").load(\"oneMillion_3271.csv\")\n",
        "df1.head(10)"
      ],
      "execution_count": 5,
      "outputs": [
        {
          "output_type": "execute_result",
          "data": {
            "text/plain": [
              "[Row(_c0='2952', label='0', ID_Post='3326', Clean_text='Top qualifizierte Leute verdienen auch viel.', len='44'),\n",
              " Row(_c0='3055', label='1', ID_Post='5321', Clean_text='Gott sei dank ist für sie eine Umfrage alles, alles Negative wird für sie wegen einer Umfrage unwichtig, weil Manager befragt wurden...', len='135'),\n",
              " Row(_c0='3232', label='0', ID_Post='5590', Clean_text='Sorry, aber die FPÖ tut eigentlich gar nichts und gewinnt TROTZDEM.', len='67'),\n",
              " Row(_c0='3278', label='1', ID_Post='6015', Clean_text='Weil es dein meisten Leuten verständlicherweise vollkommen egal ist, was die Gesellschaft oder jede andere dahergelaufene Diskursgruppe von ihnen hält.', len='151'),\n",
              " Row(_c0='3301', label='0', ID_Post='8213', Clean_text='Na wer weis was da vorgefallen ist...', len='37'),\n",
              " Row(_c0='3333', label='1', ID_Post='9724', Clean_text='Gabalier?Künstler?Bruahahaha!', len='29'),\n",
              " Row(_c0='3360', label='0', ID_Post='12986', Clean_text='Very Urgent Bastard,l am Mr. Benson Baakari, the branch manager of Banque Atlantique LomeRepublic of Togo and the personal manager to (Late Mrs. StellaBastard) she bears the same name with you as well the samenationality. I have an important Message for you about her death andher funds the sum of $ 9.1 million dollars which she inherited fromher late Husband, I need your urgent response to help me give youfurther details, please contact direct to my email address(bensonbaakari@gmail.com) for more information. Also send me yourprivate email address for easy communication.With Respect,Mr. Benson Baakari', len='608'),\n",
              " Row(_c0='3417', label='0', ID_Post='13038', Clean_text='was die meise gibt kein black metal konzert?', len='44'),\n",
              " Row(_c0='3444', label='0', ID_Post='13060', Clean_text='Musst nicht, sonst gäbs weniger Spaß! ^^', len='40'),\n",
              " Row(_c0='3464', label='1', ID_Post='13076', Clean_text='die mit ihren eigenen sexuellen - mitunter kranken und unmoralischen - Phantasien nicht zurecht kommen und genau aus diesem Grund alles was anders ist verteufeln. Peinlich und nicht zeitgemäß', len='191')]"
            ]
          },
          "metadata": {
            "tags": []
          },
          "execution_count": 5
        }
      ]
    },
    {
      "cell_type": "code",
      "metadata": {
        "id": "-Vx0ZtdGnWDZ",
        "colab_type": "code",
        "colab": {}
      },
      "source": [
        "from sparknlp.base import *\n",
        "from sparknlp.annotator import *\n",
        "from pyspark.ml import Pipeline\n",
        "\n",
        "documentAssembler = DocumentAssembler()\\\n",
        "    .setInputCol(\"Clean_text\")\\\n",
        "    .setOutputCol(\"document\")\n",
        "\n",
        "tokenizer = Tokenizer() \\\n",
        "    .setInputCols([\"document\"]) \\\n",
        "    .setOutputCol(\"token\")\n",
        "\n",
        "pattern='^.*(?=.{8,})(?=.*[a-zA-ZäöüÄÖÜß])(?=.*\\d).*$'\n",
        "pattern2 = '''[~!@#$^%&*\\\\(\\\\)_+={}\\\\[\\\\]|;:\\\"'<,>.?`/\\\\\\\\–[0-9]]'''\n",
        "#pattern2 = '!\"#$%&\\'()*+,-./:;<=>?@[\\\\]^_`{|}~'\n",
        "normalizer = Normalizer() \\\n",
        "    .setInputCols([\"token\"]) \\\n",
        "    .setOutputCol(\"normalized\")\\\n",
        "    .setLowercase(False)\\\n",
        "    .setCleanupPatterns([pattern,pattern2]) # remove punctuations (keep alphanumeric chars)\n",
        "    # if we don't set CleanupPatterns, it will only keep alphabet letters ([^A-Za-z])\n",
        "\n",
        "'''\n",
        "custom_embeddings = WordEmbeddings()\\\n",
        "  .setInputCols([\"document\", \"normalized\"])\\\n",
        "  .setOutputCol(\"word_embeddings\")\\\n",
        "  .setStoragePath('cc.de.300.vec', \"TEXT\")\\\n",
        "  .setDimension(300)\n",
        "\n",
        "'''\n",
        "\n",
        "custom_embeddings = WordEmbeddings()\\\n",
        "  .setInputCols([\"document\", \"normalized\"])\\\n",
        "  .setOutputCol(\"word_embeddings\")\\\n",
        "  .setStoragePath('model_fst200.bin', \"BINARY\")\\\n",
        "  .setDimension(200) #ATTENTION to Dimension\n",
        "\n",
        "\n",
        "embeddingsSentence = SentenceEmbeddings() \\\n",
        "      .setInputCols([\"document\", \"word_embeddings\"]) \\\n",
        "      .setOutputCol(\"sentence_embeddings\") \\\n",
        "      .setPoolingStrategy(\"AVERAGE\")\n",
        "\n",
        "classsifierdl = ClassifierDLApproach()\\\n",
        "  .setInputCols([\"sentence_embeddings\"])\\\n",
        "  .setOutputCol(\"prediction\")\\\n",
        "  .setLabelColumn(\"label\")\\\n",
        "  .setMaxEpochs(100)\\\n",
        "  .setEnableOutputLogs(True)\n",
        "\n",
        "\n",
        "pipeline = Pipeline(\n",
        "    stages = [documentAssembler,\n",
        "              tokenizer,\n",
        "              normalizer,\n",
        "              custom_embeddings,\n",
        "              embeddingsSentence,\n",
        "              classsifierdl\n",
        "    ])\n"
      ],
      "execution_count": 6,
      "outputs": []
    },
    {
      "cell_type": "code",
      "metadata": {
        "id": "1q1tnqrrn6PT",
        "colab_type": "code",
        "colab": {
          "base_uri": "https://localhost:8080/",
          "height": 51
        },
        "outputId": "1ef2693a-29f4-4bc8-dd49-cfb88cbd874f"
      },
      "source": [
        "# set seed for reproducibility\n",
        "(trainingData, testData) = df1.randomSplit([0.8, 0.2], seed = 575)\n",
        "print(\"Test Dataset Count: \" + str(trainingData.count()))\n",
        "print(\"Test Dataset Count: \" + str(testData.count()))"
      ],
      "execution_count": 7,
      "outputs": [
        {
          "output_type": "stream",
          "text": [
            "Test Dataset Count: 2616\n",
            "Test Dataset Count: 655\n"
          ],
          "name": "stdout"
        }
      ]
    },
    {
      "cell_type": "code",
      "metadata": {
        "id": "Vs3nmbtFoIGJ",
        "colab_type": "code",
        "colab": {}
      },
      "source": [
        "pipelineModel = pipeline.fit(trainingData)"
      ],
      "execution_count": 8,
      "outputs": []
    },
    {
      "cell_type": "code",
      "metadata": {
        "id": "dRDaj4fHor4Z",
        "colab_type": "code",
        "colab": {
          "base_uri": "https://localhost:8080/",
          "height": 187
        },
        "outputId": "9f832e43-9cac-44ab-b851-6e36cf31e5e1"
      },
      "source": [
        "df2 = pipelineModel.transform(testData).select(\"document\",\"word_embeddings\",\"label\",'prediction.result').toPandas()\n",
        "\n",
        "from sklearn.metrics import classification_report, accuracy_score\n",
        "\n",
        "#df3 = pipelineModel.transform(testData).select(\"document\",\"word_embeddings\",\"label\",'prediction.result').toPandas()\n",
        "\n",
        "df2['result'] = df2['result'].apply(lambda x: x[0])\n",
        "\n",
        "print(classification_report(df2.label, df2.result))\n",
        "print(accuracy_score(df2.label, df2.result))\n"
      ],
      "execution_count": 9,
      "outputs": [
        {
          "output_type": "stream",
          "text": [
            "              precision    recall  f1-score   support\n",
            "\n",
            "           0       0.56      0.58      0.57       348\n",
            "           1       0.51      0.49      0.50       307\n",
            "\n",
            "    accuracy                           0.54       655\n",
            "   macro avg       0.54      0.54      0.54       655\n",
            "weighted avg       0.54      0.54      0.54       655\n",
            "\n",
            "0.5389312977099237\n"
          ],
          "name": "stdout"
        }
      ]
    },
    {
      "cell_type": "code",
      "metadata": {
        "id": "tDpQZSMHo9kr",
        "colab_type": "code",
        "colab": {
          "base_uri": "https://localhost:8080/",
          "height": 68
        },
        "outputId": "7b47f8c4-c842-4fd5-c106-7cb8a65817ed"
      },
      "source": [
        "df2.result.value_counts()"
      ],
      "execution_count": 10,
      "outputs": [
        {
          "output_type": "execute_result",
          "data": {
            "text/plain": [
              "0    358\n",
              "1    297\n",
              "Name: result, dtype: int64"
            ]
          },
          "metadata": {
            "tags": []
          },
          "execution_count": 10
        }
      ]
    },
    {
      "cell_type": "code",
      "metadata": {
        "id": "0MzqVgCepBP6",
        "colab_type": "code",
        "colab": {
          "base_uri": "https://localhost:8080/",
          "height": 68
        },
        "outputId": "af234b56-5490-4153-ed5d-6ed96c02f0f8"
      },
      "source": [
        "df2.label.value_counts()"
      ],
      "execution_count": 11,
      "outputs": [
        {
          "output_type": "execute_result",
          "data": {
            "text/plain": [
              "0    348\n",
              "1    307\n",
              "Name: label, dtype: int64"
            ]
          },
          "metadata": {
            "tags": []
          },
          "execution_count": 11
        }
      ]
    }
  ]
}